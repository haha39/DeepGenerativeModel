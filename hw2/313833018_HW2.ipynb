{
 "cells": [
  {
   "cell_type": "markdown",
   "metadata": {},
   "source": [
    "# Step 1: Download and Load the Dataset"
   ]
  },
  {
   "cell_type": "code",
   "execution_count": 1,
   "metadata": {},
   "outputs": [
    {
     "name": "stdout",
     "output_type": "stream",
     "text": [
      "Dataset downloaded and saved as 'shakespeare.txt'.\n"
     ]
    }
   ],
   "source": [
    "import requests\n",
    "import os\n",
    "from collections import Counter, defaultdict\n",
    "import random\n",
    "\n",
    "# Download Shakespeare dataset\n",
    "url = \"https://raw.githubusercontent.com/karpathy/char-rnn/master/data/tinyshakespeare/input.txt\"\n",
    "response = requests.get(url)\n",
    "\n",
    "# Save the file\n",
    "with open(\"shakespeare.txt\", \"w\", encoding=\"utf-8\") as f:\n",
    "    f.write(response.text)\n",
    "\n",
    "print(\"Dataset downloaded and saved as 'shakespeare.txt'.\")"
   ]
  },
  {
   "cell_type": "markdown",
   "metadata": {},
   "source": [
    "# Step 2: Load and Preprocess the Data"
   ]
  },
  {
   "cell_type": "code",
   "execution_count": 2,
   "metadata": {},
   "outputs": [
    {
     "name": "stdout",
     "output_type": "stream",
     "text": [
      "Dataset length: 1115394 characters\n"
     ]
    }
   ],
   "source": [
    "with open(\"shakespeare.txt\", \"r\", encoding=\"utf-8\") as f:\n",
    "    text = f.read()\n",
    "\n",
    "# Remove unnecessary whitespace and newlines\n",
    "data = text.replace(\"\\n\", \" \")\n",
    "\n",
    "print(f\"Dataset length: {len(data)} characters\")"
   ]
  },
  {
   "cell_type": "markdown",
   "metadata": {},
   "source": [
    "# Step 3: Build n-gram Model (n=2 and n=3)"
   ]
  },
  {
   "cell_type": "code",
   "execution_count": 3,
   "metadata": {},
   "outputs": [
    {
     "name": "stdout",
     "output_type": "stream",
     "text": [
      "Total unique bigrams: 1318\n",
      "Total unique trigrams: 10033\n"
     ]
    }
   ],
   "source": [
    "def generate_ngrams(text, n):\n",
    "    \"\"\"Generate n-grams from the given text.\"\"\"\n",
    "    ngrams = [tuple(text[i : i + n]) for i in range(len(text) - n)]\n",
    "    return Counter(ngrams)\n",
    "\n",
    "# Generate bigrams (n=2) and trigrams (n=3)\n",
    "bigrams = generate_ngrams(data, 2)\n",
    "trigrams = generate_ngrams(data, 3)\n",
    "\n",
    "print(f\"Total unique bigrams: {len(bigrams)}\")\n",
    "print(f\"Total unique trigrams: {len(trigrams)}\")"
   ]
  },
  {
   "cell_type": "markdown",
   "metadata": {},
   "source": [
    "# Step 4: Find the Most Frequent n-grams"
   ]
  },
  {
   "cell_type": "code",
   "execution_count": 4,
   "metadata": {},
   "outputs": [
    {
     "name": "stdout",
     "output_type": "stream",
     "text": [
      "Most common bigram: [(('e', ' '), 29077)]\n",
      "Most common trigram: [((' ', 't', 'h'), 16237)]\n"
     ]
    }
   ],
   "source": [
    "def most_frequent_ngrams(ngram_counter, top_n=1):\n",
    "    \"\"\"Return the most common n-grams.\"\"\"\n",
    "    return ngram_counter.most_common(top_n)\n",
    "\n",
    "most_common_bigrams = most_frequent_ngrams(bigrams, 1)\n",
    "most_common_trigrams = most_frequent_ngrams(trigrams, 1)\n",
    "\n",
    "print(f\"Most common bigram: {most_common_bigrams}\")\n",
    "print(f\"Most common trigram: {most_common_trigrams}\")"
   ]
  },
  {
   "cell_type": "markdown",
   "metadata": {},
   "source": [
    "# Step 5: Find the Most Likely Next Character for Each n-gram"
   ]
  },
  {
   "cell_type": "code",
   "execution_count": 5,
   "metadata": {},
   "outputs": [
    {
     "name": "stdout",
     "output_type": "stream",
     "text": [
      "Most likely next characters for bigram ('e', ' '): Counter()\n",
      "Most likely next characters for trigram (' ', 't', 'h'): Counter()\n"
     ]
    }
   ],
   "source": [
    "def compute_next_char_probabilities(text, n):\n",
    "    \"\"\"Compute the probability distribution of the next character given an n-gram prefix.\"\"\"\n",
    "    ngram_dict = defaultdict(Counter)\n",
    "    for i in range(len(text) - n):\n",
    "        prefix = tuple(text[i : i + n - 1])  # (xt-1, xt-2, ..., xt-n+1)\n",
    "        next_char = text[i + n - 1]  # xt\n",
    "        ngram_dict[prefix][next_char] += 1\n",
    "    \n",
    "    # Convert counts to probabilities\n",
    "    for prefix, counter in ngram_dict.items():\n",
    "        total_count = sum(counter.values())\n",
    "        for char in counter:\n",
    "            counter[char] /= total_count\n",
    "    \n",
    "    return ngram_dict\n",
    "\n",
    "# Compute next character probabilities for bigrams and trigrams\n",
    "bigram_next_char_probs = compute_next_char_probabilities(data, 2)\n",
    "trigram_next_char_probs = compute_next_char_probabilities(data, 3)\n",
    "\n",
    "# Show example output\n",
    "example_bigram_prefix = most_common_bigrams[0][0]  # Most common bigram prefix\n",
    "example_trigram_prefix = most_common_trigrams[0][0]  # Most common trigram prefix\n",
    "\n",
    "print(f\"Most likely next characters for bigram {example_bigram_prefix}: {bigram_next_char_probs[example_bigram_prefix]}\")\n",
    "print(f\"Most likely next characters for trigram {example_trigram_prefix}: {trigram_next_char_probs[example_trigram_prefix]}\")"
   ]
  },
  {
   "cell_type": "markdown",
   "metadata": {},
   "source": [
    "# Step 6: Generate Text using the n-gram Model"
   ]
  },
  {
   "cell_type": "code",
   "execution_count": 6,
   "metadata": {},
   "outputs": [
    {
     "name": "stdout",
     "output_type": "stream",
     "text": [
      "\n",
      "Generated Text with Bigrams:\n",
      "hef GEShaneand thinove the aize se pe  mauts haloromay   ay PHE: waine thene wdiedlat we sti'd atouss I GLLar, nd d. hankind uge s. beakeand Whet Chisataifr's louchowesat hel. atatineaseen vas odeme: D\n",
      "haimasho Cing; cks JO: her; RYo ad. toncaitilo- t by ULey hithand h ofit Y ht mu be bo t: cepasto! notherbaneive: KIOLERoswhin had myortou bo--f, ad'swianghaveallos h th, me wn mert tr, ngoralitre dsh \n",
      "hechin BABe s bun o D boupuryssatous uablfldofay. hor, Mit? heind helist: sto, a mettiofove DUETRELUCUCE: O: y CHato Whoud g INGOUTHoul yort m Fofle Gab, la hasist's, su plld IUThaw clonothiouepfeck yo\n",
      "\n",
      "Generated Text with Trigrams:\n",
      "o-mot thesse ings frefaughbastrust Myse dand So behen the car frouch RIA: I'llorratellich floondstiong'd wrought by not the O Than's hour mur lach of claid bleachal, aren, What so makinexce, Andoot ing,\n",
      "o-mort mour of ereir be thy, wou re meneete Thind bat! Blose, MAR: How DUKE O, ithen hemakentles din hat, And a ping 't RICKING ESTERCIUS: Com re O nown, astrafecome wou and welf, Than madukes, thus.  Y\n",
      "o-may con.  And frow heenit, an him bot, I ch th cany to yours, st.  DUKENRY Pad mis this bre.  GREMIO: Io of a grephes dear.   But whord butheyettill roso, doose vand is we your cand no have to doger i\n"
     ]
    }
   ],
   "source": [
    "def generate_text(ngram_dict, seed, length=100):\n",
    "    \"\"\"Generate text using an n-gram probability distribution.\"\"\"\n",
    "    generated = list(seed)\n",
    "    for _ in range(length):\n",
    "        prefix = tuple(generated[-(len(seed)):])  # Match the prefix length\n",
    "        if prefix in ngram_dict:\n",
    "            next_char = random.choices(\n",
    "                list(ngram_dict[prefix].keys()), \n",
    "                weights=ngram_dict[prefix].values()\n",
    "            )[0]\n",
    "            generated.append(next_char)\n",
    "        else:\n",
    "            break  # Stop if no continuation found\n",
    "    return ''.join(generated)\n",
    "\n",
    "# Generate three paragraphs of text using bigrams and trigrams\n",
    "bigram_seed = random.choice(list(bigram_next_char_probs.keys()))\n",
    "trigram_seed = random.choice(list(trigram_next_char_probs.keys()))\n",
    "\n",
    "print(\"\\nGenerated Text with Bigrams:\")\n",
    "print(generate_text(bigram_next_char_probs, bigram_seed, length=200))\n",
    "print(generate_text(bigram_next_char_probs, bigram_seed, length=200))\n",
    "print(generate_text(bigram_next_char_probs, bigram_seed, length=200))\n",
    "\n",
    "print(\"\\nGenerated Text with Trigrams:\")\n",
    "print(generate_text(trigram_next_char_probs, trigram_seed, length=200))\n",
    "print(generate_text(trigram_next_char_probs, trigram_seed, length=200))\n",
    "print(generate_text(trigram_next_char_probs, trigram_seed, length=200))"
   ]
  }
 ],
 "metadata": {
  "kernelspec": {
   "display_name": "DGM_env",
   "language": "python",
   "name": "python3"
  },
  "language_info": {
   "codemirror_mode": {
    "name": "ipython",
    "version": 3
   },
   "file_extension": ".py",
   "mimetype": "text/x-python",
   "name": "python",
   "nbconvert_exporter": "python",
   "pygments_lexer": "ipython3",
   "version": "3.8.0"
  }
 },
 "nbformat": 4,
 "nbformat_minor": 2
}
